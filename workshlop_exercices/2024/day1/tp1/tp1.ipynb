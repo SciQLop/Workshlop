{
 "cells": [
  {
   "cell_type": "markdown",
   "id": "da18bf50-113a-4480-9739-a902a0353094",
   "metadata": {},
   "source": [
    "# TP 1 - SciQLOP graphical manipulations\n",
    "\n",
    "<div align=\"center\">\n",
    "<img src=\"https://github.com/SciQLop/SciQLop/raw/main/SciQLop/resources/icons/SciQLop.png\"/>\n",
    "</div>\n"
   ]
  },
  {
   "cell_type": "code",
   "execution_count": null,
   "id": "73b36b87-06af-4e7c-9308-d78103360f62",
   "metadata": {},
   "outputs": [],
   "source": []
  }
 ],
 "metadata": {
  "kernelspec": {
   "display_name": "space/python3",
   "language": "python",
   "name": "conda-env-space-py"
  },
  "language_info": {
   "codemirror_mode": {
    "name": "ipython",
    "version": 3
   },
   "file_extension": ".py",
   "mimetype": "text/x-python",
   "name": "python",
   "nbconvert_exporter": "python",
   "pygments_lexer": "ipython3",
   "version": "3.10.13"
  }
 },
 "nbformat": 4,
 "nbformat_minor": 5
}

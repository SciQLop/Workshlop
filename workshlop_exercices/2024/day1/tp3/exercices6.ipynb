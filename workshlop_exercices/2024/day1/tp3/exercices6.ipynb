{
 "cells": [
  {
   "cell_type": "markdown",
   "id": "9e8f29f9-b893-4e60-a4d3-80f88ac38fa7",
   "metadata": {},
   "source": [
    "# TP 3 SciQLOP - Virtual Products\n",
    "The goal of this practical session is to create and manipulate SciQLOP virtual products\n",
    "<div align=\"center\">\n",
    "<img src=\"https://github.com/SciQLop/SciQLop/raw/main/SciQLop/resources/icons/SciQLop.png\"/>\n",
    "</div>"
   ]
  },
  {
   "cell_type": "markdown",
   "id": "911630f8-af56-4361-ba82-bd0bbbc68c1f",
   "metadata": {},
   "source": [
    "# Mirror mode threshold virtual products\n",
    "\n",
    "In this exercice, we will create a virtual product that computes the mirror mode instability threshold value\\ \n",
    "that we have already encountered in the previous exercice.\\\n",
    "As a reminder, the formula is :\n",
    "\n",
    "\n",
    "$$ C = \\beta_\\perp\\left(\\frac{T_\\perp}{T_{\\parallel}}-1\\right)$$ \n",
    "\n",
    "\n",
    "where :\n",
    "\n",
    "$$\\beta_\\perp = \\frac{2\\mu_0P_\\perp}{B^2}$$\n",
    "\n",
    "Now in a SciQLOP notebook, define a function computing this value, and define a new scalar virtual product under the path \"mms/mirror\".\n"
   ]
  },
  {
   "cell_type": "markdown",
   "id": "2ea697ca-a8a7-4fd5-af85-ed2eaa88158f",
   "metadata": {},
   "source": [
    "# "
   ]
  }
 ],
 "metadata": {
  "kernelspec": {
   "display_name": "space/python3",
   "language": "python",
   "name": "conda-env-space-py"
  },
  "language_info": {
   "codemirror_mode": {
    "name": "ipython",
    "version": 3
   },
   "file_extension": ".py",
   "mimetype": "text/x-python",
   "name": "python",
   "nbconvert_exporter": "python",
   "pygments_lexer": "ipython3",
   "version": "3.10.13"
  }
 },
 "nbformat": 4,
 "nbformat_minor": 5
}

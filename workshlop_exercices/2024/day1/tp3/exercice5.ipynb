{
 "cells": [
  {
   "cell_type": "markdown",
   "id": "3c6f12d3-f4a2-4069-b098-91c17cab9092",
   "metadata": {},
   "source": [
    "# TP 3 - SciQLOP python API\n",
    "\n",
    "The goal of this practical session is to learn how to interact with SciQLOP in python.\\\n",
    "In particular, how to create plot templates.\n",
    "\n",
    "<div align=\"center\">\n",
    "<img src=\"https://github.com/SciQLop/SciQLop/raw/main/SciQLop/resources/icons/SciQLop.png\"/>\n",
    "</div>"
   ]
  },
  {
   "cell_type": "code",
   "execution_count": null,
   "id": "8f932124-a7e6-456e-910c-e1a546f9b289",
   "metadata": {},
   "outputs": [],
   "source": [
    "from SciQLop.backend import TimeRange\n",
    "from datetime import datetime\n",
    "import speasy as spz\n",
    "import numpy as np\n",
    "import scipy\n",
    "import scipy.constants as cst\n",
    "\n",
    "from SciQLop.backend.pipelines_model.easy_provider import EasyVector, EasyScalar\n",
    "\n",
    "\n",
    "from SciQLopPlots import QCPAxis, QCPColorGradient, QCPAxisTickerLog, QCPRange\n",
    "\n",
    "# all plots are stacked\n",
    "p = main_window.new_plot_panel()\n",
    "p.time_range = TimeRange(\n",
    "    datetime(2015, 11, 18, 2, 14, 30).timestamp(),\n",
    "    datetime(2015, 11, 18, 3, 34, 0).timestamp(),\n",
    ")\n",
    "\n",
    "plot_names = [\"spectro_fast\", \"V\", \"cm\", \"Walen\",\"fgm\", \"tB\", \"n\"]\n",
    "plots_idx = {plot_name: i for plot_name, i in zip(plot_names, range(len(plot_names)))}\n",
    "\n",
    "p.plot(\n",
    "    \"speasy/cda/MMS/MMS2/DIS/MMS2_FPI_FAST_L2_DIS_MOMS/mms2_dis_energyspectr_omni_fast\"\n",
    ")"
   ]
  }
 ],
 "metadata": {
  "kernelspec": {
   "display_name": "space/python3",
   "language": "python",
   "name": "conda-env-space-py"
  },
  "language_info": {
   "codemirror_mode": {
    "name": "ipython",
    "version": 3
   },
   "file_extension": ".py",
   "mimetype": "text/x-python",
   "name": "python",
   "nbconvert_exporter": "python",
   "pygments_lexer": "ipython3",
   "version": "3.10.13"
  }
 },
 "nbformat": 4,
 "nbformat_minor": 5
}
